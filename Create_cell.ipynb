{
 "cells": [
  {
   "cell_type": "code",
   "execution_count": 76,
   "id": "gothic-validity",
   "metadata": {},
   "outputs": [
    {
     "name": "stdout",
     "output_type": "stream",
     "text": [
      "WARNING: Got volume 79.776981, expected 239.330943\n",
      "Lattice(symbols='Mn2AuMn2Au', pbc=True, cell=[3.1445, 3.1445, 8.0681581])\n"
     ]
    }
   ],
   "source": [
    "from ase.lattice.cubic import SimpleCubicFactory, BodyCenteredCubicFactory\n",
    "\n",
    "from ase.lattice.tetragonal import CenteredTetragonalFactory\n",
    "\n",
    "class Mn2AuFactory(CenteredTetragonalFactory):\n",
    "    \"A factory for creating Mn2Au lattices.\"\n",
    "    bravais_basis = [[0.0, 0.0,  0.333333], [0.0 , 0.0, 0.666666], [0, 0, 0]]\n",
    "    element_basis = (0, 0, 1)\n",
    "\n",
    "Mn2Au = Mn2AuFactory()\n",
    "\n",
    "alat = 3.1445\n",
    "factor = 2.5658\n",
    "\n",
    "cubic_unit_cell = Mn2Au([\"Mn\", \"Au\"], latticeconstant=[alat, factor * alat]) \n",
    "\n",
    "print(cubic_unit_cell)\n",
    "\n",
    "cubic_unit_cell.write(\"Mn2Au_cubic.xyz\")"
   ]
  },
  {
   "cell_type": "code",
   "execution_count": 77,
   "id": "fluid-stability",
   "metadata": {},
   "outputs": [
    {
     "data": {
      "text/plain": [
       "3.3285248961728757"
      ]
     },
     "execution_count": 77,
     "metadata": {},
     "output_type": "execute_result"
    }
   ],
   "source": [
    "# The lattice units from the paper\n",
    "6.29 / 1.8897259886"
   ]
  },
  {
   "cell_type": "code",
   "execution_count": 78,
   "id": "proprietary-island",
   "metadata": {},
   "outputs": [
    {
     "data": {
      "text/plain": [
       "2.5658877761882053"
      ]
     },
     "execution_count": 78,
     "metadata": {},
     "output_type": "execute_result"
    }
   ],
   "source": [
    "# c/a from the paper\n",
    "16.142 / 6.291"
   ]
  },
  {
   "cell_type": "code",
   "execution_count": 89,
   "id": "operating-missouri",
   "metadata": {},
   "outputs": [],
   "source": [
    "def make_primitive_Mn2Au_cell(alat, factor):\n",
    "    \n",
    "    cell = [[-alat / 2.0, alat / 2.0, alat * factor / 2.0],\n",
    "            [alat / 2.0, -alat / 2.0, alat * factor / 2.0],\n",
    "            [alat / 2.0, alat / 2.0, -alat * factor / 2.0]\n",
    "           ]\n",
    "    \n",
    "    Au = Atoms(\"Au\", positions=[[0.0, 0.0, 0.0]], cell=cell, pbc=True)\n",
    "    Mn2 = Atoms(\"Mn2\", positions=[[0.333, 0.333, 0.0], [0.6666, 0.666, 0.0]], cell=cell, pbc=True)\n",
    "\n",
    "    return Au + Mn2\n"
   ]
  },
  {
   "cell_type": "code",
   "execution_count": 90,
   "id": "norman-sally",
   "metadata": {},
   "outputs": [
    {
     "name": "stdout",
     "output_type": "stream",
     "text": [
      "Atoms(symbols='AuMn2', pbc=True, cell=[[-1.57225, 1.57225, 4.03407905], [1.57225, -1.57225, 4.03407905], [1.57225, 1.57225, -4.03407905]])\n"
     ]
    }
   ],
   "source": [
    "primitive_unit_cell = make_primitive_Mn2Au_cell(alat, factor)\n",
    "print(primitive_unit_cell)"
   ]
  },
  {
   "cell_type": "code",
   "execution_count": 91,
   "id": "curious-execution",
   "metadata": {},
   "outputs": [],
   "source": [
    "primitive_unit_cell.write(\"Mn2Au_primitive.xyz\")"
   ]
  },
  {
   "cell_type": "code",
   "execution_count": 98,
   "id": "skilled-society",
   "metadata": {},
   "outputs": [],
   "source": [
    "from ase.calculators.vasp import Vasp\n",
    "\n",
    "n_par = 10\n",
    "\n",
    "VaspCalc = Vasp(setups={'W': '_sv'}, # Check pseudopotentials for Mn and Au here\n",
    "                npar=n_par, kpts=[3,3,3],\n",
    "                istart=0, # start from scratch\n",
    "                icharg=2, # default for istart=0\n",
    "                isif=2, \n",
    "                nsim=2,\n",
    "                prec='Accurate',\n",
    "                encut=500,\n",
    "                ediff=1.e-6,\n",
    "                ediffg=-0.04,\n",
    "                nelm=100,\n",
    "                nelmin=5,\n",
    "                algo=\"Normal\",\n",
    "                isym=0,\n",
    "                ismear=1,\n",
    "                sigma=0.1,\n",
    "                ispin=2, # spin polarised calculation\n",
    "                magmom=[0.0, 2.0, -2.0], # a first guess for the Mn2Au\n",
    "                xc='PBE')"
   ]
  },
  {
   "cell_type": "code",
   "execution_count": 106,
   "id": "quick-bristol",
   "metadata": {},
   "outputs": [],
   "source": [
    "VaspCalc.write_incar(primitive_unit_cell)"
   ]
  },
  {
   "cell_type": "code",
   "execution_count": null,
   "id": "furnished-minority",
   "metadata": {},
   "outputs": [],
   "source": []
  }
 ],
 "metadata": {
  "kernelspec": {
   "display_name": "Python 3",
   "language": "python",
   "name": "python3"
  },
  "language_info": {
   "codemirror_mode": {
    "name": "ipython",
    "version": 3
   },
   "file_extension": ".py",
   "mimetype": "text/x-python",
   "name": "python",
   "nbconvert_exporter": "python",
   "pygments_lexer": "ipython3",
   "version": "3.7.7"
  }
 },
 "nbformat": 4,
 "nbformat_minor": 5
}
