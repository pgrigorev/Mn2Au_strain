{
 "cells": [
  {
   "cell_type": "code",
   "execution_count": 22,
   "id": "anonymous-function",
   "metadata": {},
   "outputs": [
    {
     "name": "stdout",
     "output_type": "stream",
     "text": [
      "WARNING: Got volume 79.776981, expected 239.330943\n",
      "Lattice(symbols='Mn2AuMn2Au', pbc=True, cell=[3.1445, 3.1445, 8.0681581])\n"
     ]
    }
   ],
   "source": [
    "from ase.lattice.cubic import SimpleCubicFactory, BodyCenteredCubicFactory\n",
    "\n",
    "from ase.lattice.tetragonal import CenteredTetragonalFactory\n",
    "\n",
    "class Mn2AuFactory(CenteredTetragonalFactory):\n",
    "    \"A factory for creating Mn2Au lattices.\"\n",
    "    bravais_basis = [[0.0, 0.0,  0.333333], [0.0 , 0.0, 0.666666], [0, 0, 0]]\n",
    "    element_basis = (0, 0, 1)\n",
    "\n",
    "Mn2Au = Mn2AuFactory()\n",
    "\n",
    "alat = 3.1445\n",
    "factor = 2.5658\n",
    "\n",
    "cubic_unit_cell = Mn2Au([\"Mn\", \"Au\"], latticeconstant=[alat, factor * alat]) \n",
    "\n",
    "print(cubic_unit_cell)\n",
    "cubic_unit_cell.wrap()\n",
    "cubic_unit_cell.write(\"Mn2Au_cubic.xyz\")"
   ]
  },
  {
   "cell_type": "code",
   "execution_count": 23,
   "id": "substantial-seafood",
   "metadata": {},
   "outputs": [
    {
     "data": {
      "text/plain": [
       "array([ True,  True,  True])"
      ]
     },
     "execution_count": 23,
     "metadata": {},
     "output_type": "execute_result"
    }
   ],
   "source": [
    "cubic_unit_cell.pbc\n"
   ]
  },
  {
   "cell_type": "code",
   "execution_count": 61,
   "id": "likely-rating",
   "metadata": {},
   "outputs": [
    {
     "data": {
      "text/plain": [
       "array([8.7891952 , 8.7891952 , 3.42551844])"
      ]
     },
     "execution_count": 61,
     "metadata": {},
     "output_type": "execute_result"
    }
   ],
   "source": [
    "1.0 / cubic_unit_cell.cell.lengths() / 0.03618256"
   ]
  },
  {
   "cell_type": "code",
   "execution_count": 24,
   "id": "mechanical-involvement",
   "metadata": {},
   "outputs": [
    {
     "data": {
      "text/plain": [
       "array([[ 1.20737065e-17, -1.20737065e-17,  2.68938334e+00],\n",
       "       [ 2.41474131e-17, -2.41474131e-17,  5.37876669e+00],\n",
       "       [ 0.00000000e+00,  0.00000000e+00,  0.00000000e+00],\n",
       "       [ 1.57225000e+00,  1.57225000e+00,  6.72346239e+00],\n",
       "       [ 1.57225000e+00,  1.57225000e+00,  1.34468764e+00],\n",
       "       [ 1.57225000e+00,  1.57225000e+00,  4.03407905e+00]])"
      ]
     },
     "execution_count": 24,
     "metadata": {},
     "output_type": "execute_result"
    }
   ],
   "source": [
    "cubic_unit_cell.positions"
   ]
  },
  {
   "cell_type": "code",
   "execution_count": 3,
   "id": "julian-carrier",
   "metadata": {},
   "outputs": [
    {
     "data": {
      "text/plain": [
       "3.3285248961728757"
      ]
     },
     "execution_count": 3,
     "metadata": {},
     "output_type": "execute_result"
    }
   ],
   "source": [
    "# The lattice units from the paper\n",
    "6.29 / 1.8897259886"
   ]
  },
  {
   "cell_type": "code",
   "execution_count": 4,
   "id": "quality-assets",
   "metadata": {},
   "outputs": [
    {
     "data": {
      "text/plain": [
       "2.5658877761882053"
      ]
     },
     "execution_count": 4,
     "metadata": {},
     "output_type": "execute_result"
    }
   ],
   "source": [
    "# c/a from the paper\n",
    "16.142 / 6.291"
   ]
  },
  {
   "cell_type": "code",
   "execution_count": 49,
   "id": "valuable-enlargement",
   "metadata": {},
   "outputs": [],
   "source": [
    "from ase import Atoms\n",
    "\n",
    "def make_primitive_Mn2Au_cell(alat, factor):\n",
    "    \n",
    "    cell = [[-alat / 2.0, alat / 2.0, alat * factor / 2.0],\n",
    "            [alat / 2.0, -alat / 2.0, alat * factor / 2.0],\n",
    "            [alat / 2.0, alat / 2.0, -alat * factor / 2.0]\n",
    "           ]\n",
    "    \n",
    "    Au = Atoms(\"Au\", scaled_positions=[[0.0, 0.0, 0.0]], cell=cell, pbc=True)\n",
    "    Mn2 = Atoms(\"Mn2\", scaled_positions=[[0.333, 0.333, 0.0], [0.6666, 0.666, 0.0]], cell=cell, pbc=True)\n",
    "\n",
    "    return Au + Mn2\n"
   ]
  },
  {
   "cell_type": "code",
   "execution_count": 50,
   "id": "expired-belfast",
   "metadata": {},
   "outputs": [
    {
     "name": "stdout",
     "output_type": "stream",
     "text": [
      "Atoms(symbols='AuMn2', pbc=True, cell=[[-1.57225, 1.57225, 4.03407905], [1.57225, -1.57225, 4.03407905], [1.57225, 1.57225, -4.03407905]])\n"
     ]
    }
   ],
   "source": [
    "primitive_unit_cell = make_primitive_Mn2Au_cell(alat, factor)\n",
    "print(primitive_unit_cell)"
   ]
  },
  {
   "cell_type": "code",
   "execution_count": 51,
   "id": "drawn-valuation",
   "metadata": {},
   "outputs": [
    {
     "data": {
      "text/plain": [
       "array([[ 0.00000000e+00,  0.00000000e+00,  0.00000000e+00],\n",
       "       [ 0.00000000e+00,  0.00000000e+00,  2.68669665e+00],\n",
       "       [-9.43350000e-04,  9.43350000e-04,  5.37581374e+00]])"
      ]
     },
     "execution_count": 51,
     "metadata": {},
     "output_type": "execute_result"
    }
   ],
   "source": [
    "primitive_unit_cell.positions"
   ]
  },
  {
   "cell_type": "code",
   "execution_count": 59,
   "id": "fourth-footage",
   "metadata": {},
   "outputs": [
    {
     "data": {
      "text/plain": [
       "array([0.03618256, 0.03618256, 0.03618256])"
      ]
     },
     "execution_count": 59,
     "metadata": {},
     "output_type": "execute_result"
    }
   ],
   "source": [
    "(1.0 / primitive_unit_cell.cell.lengths()) / 6.0"
   ]
  },
  {
   "cell_type": "code",
   "execution_count": null,
   "id": "straight-effectiveness",
   "metadata": {},
   "outputs": [],
   "source": []
  },
  {
   "cell_type": "code",
   "execution_count": 52,
   "id": "minimal-citation",
   "metadata": {},
   "outputs": [
    {
     "data": {
      "text/plain": [
       "array([[0.        , 2.68669665, 5.37581391],\n",
       "       [2.68669665, 0.        , 2.68911743],\n",
       "       [5.37581391, 2.68911743, 0.        ]])"
      ]
     },
     "execution_count": 52,
     "metadata": {},
     "output_type": "execute_result"
    }
   ],
   "source": [
    "primitive_unit_cell.get_all_distances()"
   ]
  },
  {
   "cell_type": "code",
   "execution_count": null,
   "id": "sitting-bolivia",
   "metadata": {},
   "outputs": [],
   "source": [
    "cubo"
   ]
  },
  {
   "cell_type": "code",
   "execution_count": 53,
   "id": "given-resistance",
   "metadata": {},
   "outputs": [],
   "source": [
    "primitive_unit_cell.write(\"Mn2Au_primitive.xyz\")"
   ]
  },
  {
   "cell_type": "code",
   "execution_count": 15,
   "id": "periodic-finder",
   "metadata": {},
   "outputs": [],
   "source": [
    "from ase.calculators.vasp import Vasp\n",
    "\n",
    "n_par = 10\n",
    "\n",
    "VaspCalc = Vasp(setups={'W': '_sv'}, # Check pseudopotentials for Mn and Au here\n",
    "                npar=n_par, kpts=[3,3,3],\n",
    "                istart=0, # start from scratch\n",
    "                icharg=2, # default for istart=0\n",
    "                isif=2, \n",
    "                nsim=2,\n",
    "                prec='Accurate',\n",
    "                encut=500,\n",
    "                ediff=1.e-6,\n",
    "                ediffg=-0.04,\n",
    "                nelm=100,\n",
    "                nelmin=5,\n",
    "                algo=\"Normal\",\n",
    "                isym=0,\n",
    "                ismear=1,\n",
    "                sigma=0.1,\n",
    "                ispin=2, # spin polarised calculation\n",
    "                magmom=[0.0, 2.0, -2.0], # a first guess for the Mn2Au\n",
    "                xc='PBE')"
   ]
  },
  {
   "cell_type": "code",
   "execution_count": 21,
   "id": "failing-looking",
   "metadata": {},
   "outputs": [
    {
     "ename": "ValueError",
     "evalue": "Expected length of magmom tag to be 6, i.e. 1 value per atom, but got 3",
     "output_type": "error",
     "traceback": [
      "\u001b[0;31m---------------------------------------------------------------------------\u001b[0m",
      "\u001b[0;31mValueError\u001b[0m                                Traceback (most recent call last)",
      "\u001b[0;32m<ipython-input-21-a2027818820d>\u001b[0m in \u001b[0;36m<module>\u001b[0;34m()\u001b[0m\n\u001b[0;32m----> 1\u001b[0;31m \u001b[0mVaspCalc\u001b[0m\u001b[0;34m.\u001b[0m\u001b[0mwrite_incar\u001b[0m\u001b[0;34m(\u001b[0m\u001b[0mcubic_unit_cell\u001b[0m\u001b[0;34m)\u001b[0m\u001b[0;34m\u001b[0m\u001b[0;34m\u001b[0m\u001b[0m\n\u001b[0m",
      "\u001b[0;32m/home/petr/anaconda3/envs/quippy/lib/python3.7/site-packages/ase/calculators/vasp/create_input.py\u001b[0m in \u001b[0;36mwrite_incar\u001b[0;34m(self, atoms, directory, **kwargs)\u001b[0m\n\u001b[1;32m   1481\u001b[0m                            \u001b[0;34m' {}, i.e. 1 value per atom, but got {}'\u001b[0m\u001b[0;34m)\u001b[0m\u001b[0;34m.\u001b[0m\u001b[0mformat\u001b[0m\u001b[0;34m(\u001b[0m\u001b[0;34m\u001b[0m\u001b[0;34m\u001b[0m\u001b[0m\n\u001b[1;32m   1482\u001b[0m                                len(atoms), len(val))\n\u001b[0;32m-> 1483\u001b[0;31m                     \u001b[0;32mraise\u001b[0m \u001b[0mValueError\u001b[0m\u001b[0;34m(\u001b[0m\u001b[0mmsg\u001b[0m\u001b[0;34m)\u001b[0m\u001b[0;34m\u001b[0m\u001b[0;34m\u001b[0m\u001b[0m\n\u001b[0m\u001b[1;32m   1484\u001b[0m \u001b[0;34m\u001b[0m\u001b[0m\n\u001b[1;32m   1485\u001b[0m                 \u001b[0;31m# Check if user remembered to specify ispin\u001b[0m\u001b[0;34m\u001b[0m\u001b[0;34m\u001b[0m\u001b[0;34m\u001b[0m\u001b[0m\n",
      "\u001b[0;31mValueError\u001b[0m: Expected length of magmom tag to be 6, i.e. 1 value per atom, but got 3"
     ]
    }
   ],
   "source": [
    "VaspCalc.write_incar(cubic_unit_cell)"
   ]
  },
  {
   "cell_type": "code",
   "execution_count": null,
   "id": "nominated-stress",
   "metadata": {},
   "outputs": [],
   "source": [
    "VaspCalc"
   ]
  },
  {
   "cell_type": "code",
   "execution_count": 20,
   "id": "heated-shell",
   "metadata": {},
   "outputs": [
    {
     "data": {
      "text/plain": [
       "Atoms(symbols='AuMn2', pbc=True, cell=[[-1.57225, 1.57225, 4.03407905], [1.57225, -1.57225, 4.03407905], [1.57225, 1.57225, -4.03407905]])"
      ]
     },
     "execution_count": 20,
     "metadata": {},
     "output_type": "execute_result"
    }
   ],
   "source": [
    "primitive_unit_cell"
   ]
  },
  {
   "cell_type": "code",
   "execution_count": 18,
   "id": "dutch-giving",
   "metadata": {},
   "outputs": [
    {
     "data": {
      "text/plain": [
       "Lattice(symbols='Mn2AuMn2Au', pbc=True, cell=[3.1445, 3.1445, 8.0681581])"
      ]
     },
     "execution_count": 18,
     "metadata": {},
     "output_type": "execute_result"
    }
   ],
   "source": [
    "cubic_unit_cell"
   ]
  },
  {
   "cell_type": "code",
   "execution_count": 37,
   "id": "closing-danish",
   "metadata": {},
   "outputs": [
    {
     "data": {
      "text/plain": [
       "array([[0.        , 2.68938334, 2.68938334, 4.60627115, 2.5984893 ,\n",
       "        2.5984893 ],\n",
       "       [2.68938334, 0.        , 5.37876669, 2.5984893 , 4.60627115,\n",
       "        2.59848513],\n",
       "       [2.68938334, 5.37876669, 0.        , 7.08158786, 2.59848513,\n",
       "        4.60627115],\n",
       "       [4.60627115, 2.5984893 , 7.08158786, 0.        , 5.37877476,\n",
       "        2.68938334],\n",
       "       [2.5984893 , 4.60627115, 2.59848513, 5.37877476, 0.        ,\n",
       "        2.68939141],\n",
       "       [2.5984893 , 2.59848513, 4.60627115, 2.68938334, 2.68939141,\n",
       "        0.        ]])"
      ]
     },
     "execution_count": 37,
     "metadata": {},
     "output_type": "execute_result"
    }
   ],
   "source": [
    "cubic_unit_cell.get_all_distances()"
   ]
  },
  {
   "cell_type": "markdown",
   "id": "industrial-interim",
   "metadata": {},
   "source": [
    "## The both cells give similar results:\n",
    "\n",
    "Cubic cell enrgy: -42.01578777\n",
    "Energy per atom: -7.0026312950000005\n",
    "Forces\n",
    "```\n",
    "[[-1.23000000e-06 -1.16000000e-06 -1.00935569e+00]\n",
    " [ 5.30000000e-07 -9.60000000e-07  1.01005875e+00]\n",
    " [-5.30000000e-07  2.86000000e-06 -7.73770000e-04]\n",
    " [-5.20000000e-07  7.40000000e-07 -1.01074019e+00]\n",
    " [-2.00000000e-08 -7.00000000e-07  1.01015928e+00]\n",
    " [ 1.78000000e-06 -7.90000000e-07  6.51620000e-04]]\n",
    " ```\n",
    "Stress\n",
    "```\n",
    "[-1.42497944e-01 -1.42497746e-01 -1.27948453e-01  2.81429646e-08\n",
    "  1.66648294e-09  1.42481170e-07]\n",
    "```\n",
    "Total magnetic moment\n",
    "0.0011857\n",
    "Magnetic moments:\n",
    "```\n",
    "[-3.209  3.209 -0.    -3.209  3.209  0.   ]\n",
    "```\n",
    "Primitive\n",
    "\n",
    "-20.99605531\n",
    "Energy per atom: -6.998685103333333\n",
    "Forces\n",
    "```\n",
    "[[-0.00552589  0.00552338 -0.04020551]\n",
    " [-0.00256008  0.00255829 -0.99728084]\n",
    " [ 0.00808597 -0.00808167  1.03748635]]\n",
    "```\n",
    "Stress\n",
    "```\n",
    "[-1.39089114e-01 -1.39089206e-01 -1.28556836e-01  1.46399977e-04\n",
    " -1.46068509e-04  8.86930930e-07]\n",
    "```\n",
    "Total magnetic moment\n",
    "0.0018399\n",
    "Magnetic moments:\n",
    "```\n",
    "[ 1.000e-03 -3.188e+00  3.189e+00]\n",
    "```\n"
   ]
  },
  {
   "cell_type": "markdown",
   "id": "descending-newsletter",
   "metadata": {},
   "source": [
    "## TO DO:\n",
    "\n",
    "- Energy cut off and k-points convergence tests\n",
    "- Identify lattice constants and zero pressure and elastic constants\n",
    "- Apply the straining\n",
    "\n",
    "## To discuss:\n",
    "- Importance and relevance of [Dudarev](https://www.vasp.at/wiki/index.php/LDAUTYPE#cite_note-rohrbach:jcp:03-1) approach"
   ]
  },
  {
   "cell_type": "code",
   "execution_count": null,
   "id": "partial-token",
   "metadata": {},
   "outputs": [],
   "source": []
  }
 ],
 "metadata": {
  "kernelspec": {
   "display_name": "Python 3",
   "language": "python",
   "name": "python3"
  },
  "language_info": {
   "codemirror_mode": {
    "name": "ipython",
    "version": 3
   },
   "file_extension": ".py",
   "mimetype": "text/x-python",
   "name": "python",
   "nbconvert_exporter": "python",
   "pygments_lexer": "ipython3",
   "version": "3.7.7"
  }
 },
 "nbformat": 4,
 "nbformat_minor": 5
}
