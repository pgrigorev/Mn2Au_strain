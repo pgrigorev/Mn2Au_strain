{
 "cells": [
  {
   "cell_type": "markdown",
   "metadata": {},
   "source": [
    "\n",
    "## Energy functional in an AF material in the presence of strain\n",
    "\n",
    "The relevant components of the free energy functional are the magnetocrystalline anisotropy energy and the magnetostriction:  \n",
    "$E = E_{anis}+E_{ms}$.  \n",
    "For a tetragonal material, the anisotropy is given by:  \n",
    "$E_{anis} = K_{2 \\parallel} cos^2(\\Theta) + K_{4 \\parallel} cos^4(\\Theta) + K_{4 \\perp} sin^4(\\Theta) cos(4\\phi)$,  \n",
    "which is reduced to:  \n",
    "$E_{anis} = K_{4 \\perp}cos(4\\phi)$  \n",
    "for the case of a strong in-plane anisotropy.  \n",
    "The magnetostriction energy is given by:  \n",
    "$E_{ms} = B_{ij} \\epsilon_{ij} \\beta_i \\beta_j$,  \n",
    "where $\\beta_i$ are the directional cosines.  \n",
    "For a bent film, the strain tensor $\\epsilon_{ij}$ has only one component $\\epsilon_{xx}$. Thus,  \n",
    "$E_{ms} = B \\epsilon_{xx} cos^2(\\phi)$.  \n",
    "In the absence of strain, the free energy has the following angle dependence."
   ]
  },
  {
   "cell_type": "code",
   "execution_count": 1,
   "metadata": {},
   "outputs": [
    {
     "name": "stderr",
     "output_type": "stream",
     "text": [
      "Matplotlib created a temporary config/cache directory at /tmp/matplotlib-n107n519 because the default path (/home/petr/.config/matplotlib) is not a writable directory; it is highly recommended to set the MPLCONFIGDIR environment variable to a writable directory, in particular to speed up the import of Matplotlib and to better support multiprocessing.\n"
     ]
    },
    {
     "data": {
      "text/plain": [
       "<Figure size 640x480 with 1 Axes>"
      ]
     },
     "metadata": {},
     "output_type": "display_data"
    }
   ],
   "source": [
    "import matplotlib.pyplot as plt\n",
    "import numpy as np\n",
    "\n",
    "K = 1;\n",
    "\n",
    "angle = [i for i in range(360)];\n",
    "Eanis = [-K*np.cos(4*a/180*np.pi)+1 for a in angle];\n",
    "\n",
    "plt.figure();\n",
    "plt.plot(angle , Eanis);\n",
    "plt.xlabel('angle (deg)');\n",
    "plt.ylabel('energy (A.U.)');\n",
    "\n",
    "plt.xlim([0, 360]);\n",
    "plt.show();"
   ]
  },
  {
   "cell_type": "markdown",
   "metadata": {},
   "source": [
    "Adding the straing modifies the energy landscape by shifting the energy minima and lowering the energy barrier. As a consequense, only two global minima remain rendering the <110> crystallographic directions not equivalent."
   ]
  },
  {
   "cell_type": "code",
   "execution_count": 2,
   "metadata": {},
   "outputs": [
    {
     "data": {
      "image/png": "[encoded data removed]",
      "text/plain": [
       "<Figure size 432x288 with 1 Axes>"
      ]
     },
     "metadata": {
      "needs_background": "light"
     },
     "output_type": "display_data"
    }
   ],
   "source": [
    "import matplotlib.pyplot as plt\n",
    "import numpy as np\n",
    "\n",
    "K = 1;\n",
    "B = 1;\n",
    "epsilonXX = 0.5;\n",
    "\n",
    "angle = [i for i in range(360)];\n",
    "Eanis = [-K*np.cos(4*a/180*np.pi)+1 for a in angle];\n",
    "Estrain = [B*epsilonXX*np.cos(a/180*np.pi)**2 for a in angle];\n",
    "\n",
    "plt.figure();\n",
    "plt.plot(angle , [sum(x) for x in zip(Eanis, Estrain)]);\n",
    "plt.xlabel('angle (deg)');\n",
    "plt.ylabel('energy (A.U.)');\n",
    "\n",
    "plt.xlim([0, 360]);\n",
    "plt.show();"
   ]
  },
  {
   "cell_type": "code",
   "execution_count": 3,
   "metadata": {},
   "outputs": [],
   "source": [
    "import pandas as pd"
   ]
  },
  {
   "cell_type": "code",
   "execution_count": 4,
   "metadata": {},
   "outputs": [],
   "source": [
    "from scipy.optimize import curve_fit"
   ]
  },
  {
   "cell_type": "code",
   "execution_count": 5,
   "metadata": {},
   "outputs": [],
   "source": [
    "def linear(x, A):\n",
    "    return A * x\n",
    "\n",
    "def quadratic(x, A, B, C):\n",
    "    return A * x ** 2 + B * x + C"
   ]
  },
  {
   "cell_type": "code",
   "execution_count": 6,
   "metadata": {},
   "outputs": [
    {
     "ename": "NameError",
     "evalue": "name 'Delta_length' is not defined",
     "output_type": "error",
     "traceback": [
      "\u001b[0;31m---------------------------------------------------------------------------\u001b[0m",
      "\u001b[0;31mNameError\u001b[0m                                 Traceback (most recent call last)",
      "\u001b[0;32m<ipython-input-6-9d825be6d262>\u001b[0m in \u001b[0;36m<module>\u001b[0;34m()\u001b[0m\n\u001b[0;32m----> 1\u001b[0;31m \u001b[0mDelta_length\u001b[0m\u001b[0;34m\u001b[0m\u001b[0;34m\u001b[0m\u001b[0m\n\u001b[0m",
      "\u001b[0;31mNameError\u001b[0m: name 'Delta_length' is not defined"
     ]
    }
   ],
   "source": [
    "Delta_length"
   ]
  },
  {
   "cell_type": "code",
   "execution_count": null,
   "metadata": {},
   "outputs": [],
   "source": [
    "from ase.units import GPa"
   ]
  },
  {
   "cell_type": "code",
   "execution_count": null,
   "metadata": {},
   "outputs": [],
   "source": [
    "GPa * 1.0e9"
   ]
  },
  {
   "cell_type": "code",
   "execution_count": 7,
   "metadata": {},
   "outputs": [
    {
     "data": {
      "text/html": [
       "<div>\n",
       "<style scoped>\n",
       "    .dataframe tbody tr th:only-of-type {\n",
       "        vertical-align: middle;\n",
       "    }\n",
       "\n",
       "    .dataframe tbody tr th {\n",
       "        vertical-align: top;\n",
       "    }\n",
       "\n",
       "    .dataframe thead th {\n",
       "        text-align: right;\n",
       "    }\n",
       "</style>\n",
       "<table border=\"1\" class=\"dataframe\">\n",
       "  <thead>\n",
       "    <tr style=\"text-align: right;\">\n",
       "      <th></th>\n",
       "      <th>Unnamed: 0</th>\n",
       "      <th>Unnamed: 0.1</th>\n",
       "      <th>collinear_energy</th>\n",
       "      <th>energy</th>\n",
       "      <th>strain</th>\n",
       "      <th>E_110</th>\n",
       "      <th>E_-110</th>\n",
       "      <th>cell_length</th>\n",
       "    </tr>\n",
       "  </thead>\n",
       "  <tbody>\n",
       "    <tr>\n",
       "      <th>0</th>\n",
       "      <td>0</td>\n",
       "      <td>0</td>\n",
       "      <td>-21.346646</td>\n",
       "      <td>-21.681092</td>\n",
       "      <td>-0.05</td>\n",
       "      <td>-21.681092</td>\n",
       "      <td>-21.681102</td>\n",
       "      <td>3.115329</td>\n",
       "    </tr>\n",
       "    <tr>\n",
       "      <th>1</th>\n",
       "      <td>1</td>\n",
       "      <td>1</td>\n",
       "      <td>-21.364111</td>\n",
       "      <td>-21.697626</td>\n",
       "      <td>-0.04</td>\n",
       "      <td>-21.697626</td>\n",
       "      <td>-21.697628</td>\n",
       "      <td>3.148122</td>\n",
       "    </tr>\n",
       "    <tr>\n",
       "      <th>2</th>\n",
       "      <td>2</td>\n",
       "      <td>2</td>\n",
       "      <td>-21.377288</td>\n",
       "      <td>-21.709892</td>\n",
       "      <td>-0.03</td>\n",
       "      <td>-21.709892</td>\n",
       "      <td>-21.709890</td>\n",
       "      <td>3.180915</td>\n",
       "    </tr>\n",
       "    <tr>\n",
       "      <th>3</th>\n",
       "      <td>3</td>\n",
       "      <td>3</td>\n",
       "      <td>-21.386384</td>\n",
       "      <td>-21.718099</td>\n",
       "      <td>-0.02</td>\n",
       "      <td>-21.718099</td>\n",
       "      <td>-21.718089</td>\n",
       "      <td>3.213708</td>\n",
       "    </tr>\n",
       "    <tr>\n",
       "      <th>4</th>\n",
       "      <td>4</td>\n",
       "      <td>4</td>\n",
       "      <td>-21.391646</td>\n",
       "      <td>-21.722488</td>\n",
       "      <td>-0.01</td>\n",
       "      <td>-21.722488</td>\n",
       "      <td>-21.722482</td>\n",
       "      <td>3.246501</td>\n",
       "    </tr>\n",
       "    <tr>\n",
       "      <th>5</th>\n",
       "      <td>5</td>\n",
       "      <td>5</td>\n",
       "      <td>-21.393291</td>\n",
       "      <td>-21.723272</td>\n",
       "      <td>0.00</td>\n",
       "      <td>-21.723272</td>\n",
       "      <td>-21.723273</td>\n",
       "      <td>3.279294</td>\n",
       "    </tr>\n",
       "    <tr>\n",
       "      <th>6</th>\n",
       "      <td>6</td>\n",
       "      <td>6</td>\n",
       "      <td>-21.391528</td>\n",
       "      <td>-21.720666</td>\n",
       "      <td>0.01</td>\n",
       "      <td>-21.720666</td>\n",
       "      <td>-21.720675</td>\n",
       "      <td>3.312087</td>\n",
       "    </tr>\n",
       "    <tr>\n",
       "      <th>7</th>\n",
       "      <td>7</td>\n",
       "      <td>7</td>\n",
       "      <td>-21.386563</td>\n",
       "      <td>-21.714869</td>\n",
       "      <td>0.02</td>\n",
       "      <td>-21.714869</td>\n",
       "      <td>-21.714890</td>\n",
       "      <td>3.344880</td>\n",
       "    </tr>\n",
       "    <tr>\n",
       "      <th>8</th>\n",
       "      <td>8</td>\n",
       "      <td>8</td>\n",
       "      <td>-21.378588</td>\n",
       "      <td>-21.706080</td>\n",
       "      <td>0.03</td>\n",
       "      <td>-21.706080</td>\n",
       "      <td>-21.706114</td>\n",
       "      <td>3.377673</td>\n",
       "    </tr>\n",
       "    <tr>\n",
       "      <th>9</th>\n",
       "      <td>9</td>\n",
       "      <td>9</td>\n",
       "      <td>-21.367794</td>\n",
       "      <td>-21.694492</td>\n",
       "      <td>0.04</td>\n",
       "      <td>-21.694492</td>\n",
       "      <td>-21.694545</td>\n",
       "      <td>3.410466</td>\n",
       "    </tr>\n",
       "    <tr>\n",
       "      <th>10</th>\n",
       "      <td>10</td>\n",
       "      <td>10</td>\n",
       "      <td>-21.354353</td>\n",
       "      <td>-21.680274</td>\n",
       "      <td>0.05</td>\n",
       "      <td>-21.680274</td>\n",
       "      <td>-21.680347</td>\n",
       "      <td>3.443259</td>\n",
       "    </tr>\n",
       "  </tbody>\n",
       "</table>\n",
       "</div>"
      ],
      "text/plain": [
       "    Unnamed: 0  Unnamed: 0.1  collinear_energy     energy  strain      E_110  \\\n",
       "0            0             0        -21.346646 -21.681092   -0.05 -21.681092   \n",
       "1            1             1        -21.364111 -21.697626   -0.04 -21.697626   \n",
       "2            2             2        -21.377288 -21.709892   -0.03 -21.709892   \n",
       "3            3             3        -21.386384 -21.718099   -0.02 -21.718099   \n",
       "4            4             4        -21.391646 -21.722488   -0.01 -21.722488   \n",
       "5            5             5        -21.393291 -21.723272    0.00 -21.723272   \n",
       "6            6             6        -21.391528 -21.720666    0.01 -21.720666   \n",
       "7            7             7        -21.386563 -21.714869    0.02 -21.714869   \n",
       "8            8             8        -21.378588 -21.706080    0.03 -21.706080   \n",
       "9            9             9        -21.367794 -21.694492    0.04 -21.694492   \n",
       "10          10            10        -21.354353 -21.680274    0.05 -21.680274   \n",
       "\n",
       "       E_-110  cell_length  \n",
       "0  -21.681102     3.115329  \n",
       "1  -21.697628     3.148122  \n",
       "2  -21.709890     3.180915  \n",
       "3  -21.718089     3.213708  \n",
       "4  -21.722482     3.246501  \n",
       "5  -21.723273     3.279294  \n",
       "6  -21.720675     3.312087  \n",
       "7  -21.714890     3.344880  \n",
       "8  -21.706114     3.377673  \n",
       "9  -21.694545     3.410466  \n",
       "10 -21.680347     3.443259  "
      ]
     },
     "execution_count": 7,
     "metadata": {},
     "output_type": "execute_result"
    }
   ],
   "source": [
    "strain_110 = pd.read_csv(\"strain_110_results.csv\")\n",
    "strain_110"
   ]
  },
  {
   "cell_type": "code",
   "execution_count": 8,
   "metadata": {},
   "outputs": [],
   "source": [
    "second_strain_results = pd.read_csv(\"strain_-110_results.csv\", index_col=0)"
   ]
  },
  {
   "cell_type": "code",
   "execution_count": 9,
   "metadata": {},
   "outputs": [
    {
     "data": {
      "text/html": [
       "<div>\n",
       "<style scoped>\n",
       "    .dataframe tbody tr th:only-of-type {\n",
       "        vertical-align: middle;\n",
       "    }\n",
       "\n",
       "    .dataframe tbody tr th {\n",
       "        vertical-align: top;\n",
       "    }\n",
       "\n",
       "    .dataframe thead th {\n",
       "        text-align: right;\n",
       "    }\n",
       "</style>\n",
       "<table border=\"1\" class=\"dataframe\">\n",
       "  <thead>\n",
       "    <tr style=\"text-align: right;\">\n",
       "      <th></th>\n",
       "      <th>collinear_energy</th>\n",
       "      <th>delta</th>\n",
       "      <th>parallel_energy</th>\n",
       "      <th>perpendicular_energy</th>\n",
       "      <th>strain</th>\n",
       "      <th>E_-110</th>\n",
       "      <th>E_110</th>\n",
       "    </tr>\n",
       "  </thead>\n",
       "  <tbody>\n",
       "    <tr>\n",
       "      <th>0</th>\n",
       "      <td>-21.346673</td>\n",
       "      <td>-6.600000e-06</td>\n",
       "      <td>-21.681117</td>\n",
       "      <td>-21.681123</td>\n",
       "      <td>-0.05</td>\n",
       "      <td>-21.681117</td>\n",
       "      <td>-21.681123</td>\n",
       "    </tr>\n",
       "    <tr>\n",
       "      <th>1</th>\n",
       "      <td>-21.364138</td>\n",
       "      <td>2.670000e-06</td>\n",
       "      <td>-21.697653</td>\n",
       "      <td>-21.697650</td>\n",
       "      <td>-0.04</td>\n",
       "      <td>-21.697653</td>\n",
       "      <td>-21.697650</td>\n",
       "    </tr>\n",
       "    <tr>\n",
       "      <th>2</th>\n",
       "      <td>-21.377316</td>\n",
       "      <td>9.190000e-06</td>\n",
       "      <td>-21.709923</td>\n",
       "      <td>-21.709914</td>\n",
       "      <td>-0.03</td>\n",
       "      <td>-21.709923</td>\n",
       "      <td>-21.709914</td>\n",
       "    </tr>\n",
       "    <tr>\n",
       "      <th>3</th>\n",
       "      <td>-21.386406</td>\n",
       "      <td>1.245000e-05</td>\n",
       "      <td>-21.718122</td>\n",
       "      <td>-21.718109</td>\n",
       "      <td>-0.02</td>\n",
       "      <td>-21.718122</td>\n",
       "      <td>-21.718109</td>\n",
       "    </tr>\n",
       "    <tr>\n",
       "      <th>4</th>\n",
       "      <td>-21.391656</td>\n",
       "      <td>8.440000e-06</td>\n",
       "      <td>-21.722499</td>\n",
       "      <td>-21.722490</td>\n",
       "      <td>-0.01</td>\n",
       "      <td>-21.722499</td>\n",
       "      <td>-21.722490</td>\n",
       "    </tr>\n",
       "    <tr>\n",
       "      <th>5</th>\n",
       "      <td>-21.393291</td>\n",
       "      <td>6.800000e-07</td>\n",
       "      <td>-21.723273</td>\n",
       "      <td>-21.723272</td>\n",
       "      <td>0.00</td>\n",
       "      <td>-21.723273</td>\n",
       "      <td>-21.723272</td>\n",
       "    </tr>\n",
       "    <tr>\n",
       "      <th>6</th>\n",
       "      <td>-21.391521</td>\n",
       "      <td>-9.360000e-06</td>\n",
       "      <td>-21.720659</td>\n",
       "      <td>-21.720669</td>\n",
       "      <td>0.01</td>\n",
       "      <td>-21.720659</td>\n",
       "      <td>-21.720669</td>\n",
       "    </tr>\n",
       "    <tr>\n",
       "      <th>7</th>\n",
       "      <td>-21.386552</td>\n",
       "      <td>-1.992000e-05</td>\n",
       "      <td>-21.714860</td>\n",
       "      <td>-21.714880</td>\n",
       "      <td>0.02</td>\n",
       "      <td>-21.714860</td>\n",
       "      <td>-21.714880</td>\n",
       "    </tr>\n",
       "    <tr>\n",
       "      <th>8</th>\n",
       "      <td>-21.378577</td>\n",
       "      <td>-3.608000e-05</td>\n",
       "      <td>-21.706072</td>\n",
       "      <td>-21.706108</td>\n",
       "      <td>0.03</td>\n",
       "      <td>-21.706072</td>\n",
       "      <td>-21.706108</td>\n",
       "    </tr>\n",
       "    <tr>\n",
       "      <th>9</th>\n",
       "      <td>-21.367788</td>\n",
       "      <td>-5.790000e-05</td>\n",
       "      <td>-21.694487</td>\n",
       "      <td>-21.694545</td>\n",
       "      <td>0.04</td>\n",
       "      <td>-21.694487</td>\n",
       "      <td>-21.694545</td>\n",
       "    </tr>\n",
       "    <tr>\n",
       "      <th>10</th>\n",
       "      <td>-21.354356</td>\n",
       "      <td>-7.805000e-05</td>\n",
       "      <td>-21.680278</td>\n",
       "      <td>-21.680356</td>\n",
       "      <td>0.05</td>\n",
       "      <td>-21.680278</td>\n",
       "      <td>-21.680356</td>\n",
       "    </tr>\n",
       "  </tbody>\n",
       "</table>\n",
       "</div>"
      ],
      "text/plain": [
       "    collinear_energy         delta  parallel_energy  perpendicular_energy  \\\n",
       "0         -21.346673 -6.600000e-06       -21.681117            -21.681123   \n",
       "1         -21.364138  2.670000e-06       -21.697653            -21.697650   \n",
       "2         -21.377316  9.190000e-06       -21.709923            -21.709914   \n",
       "3         -21.386406  1.245000e-05       -21.718122            -21.718109   \n",
       "4         -21.391656  8.440000e-06       -21.722499            -21.722490   \n",
       "5         -21.393291  6.800000e-07       -21.723273            -21.723272   \n",
       "6         -21.391521 -9.360000e-06       -21.720659            -21.720669   \n",
       "7         -21.386552 -1.992000e-05       -21.714860            -21.714880   \n",
       "8         -21.378577 -3.608000e-05       -21.706072            -21.706108   \n",
       "9         -21.367788 -5.790000e-05       -21.694487            -21.694545   \n",
       "10        -21.354356 -7.805000e-05       -21.680278            -21.680356   \n",
       "\n",
       "    strain     E_-110      E_110  \n",
       "0    -0.05 -21.681117 -21.681123  \n",
       "1    -0.04 -21.697653 -21.697650  \n",
       "2    -0.03 -21.709923 -21.709914  \n",
       "3    -0.02 -21.718122 -21.718109  \n",
       "4    -0.01 -21.722499 -21.722490  \n",
       "5     0.00 -21.723273 -21.723272  \n",
       "6     0.01 -21.720659 -21.720669  \n",
       "7     0.02 -21.714860 -21.714880  \n",
       "8     0.03 -21.706072 -21.706108  \n",
       "9     0.04 -21.694487 -21.694545  \n",
       "10    0.05 -21.680278 -21.680356  "
      ]
     },
     "execution_count": 9,
     "metadata": {},
     "output_type": "execute_result"
    }
   ],
   "source": [
    "second_strain_results"
   ]
  },
  {
   "cell_type": "code",
   "execution_count": 10,
   "metadata": {},
   "outputs": [],
   "source": [
    "def linear_fit(x, y, start=0, stop=None):\n",
    "\n",
    "    popt, pcov = curve_fit(linear, x[start:stop], y[start:stop])\n",
    "\n",
    "    print(popt)\n",
    "\n",
    "    perr = np.sqrt(np.diag(pcov))\n",
    "    print(perr)\n",
    "    if stop is None:\n",
    "        stop = -1\n",
    "    x_new = np.arange(x[start], x[stop], 0.001)\n",
    "    y_new = linear(x_new, *popt)\n",
    "\n",
    "    return popt[0], x_new, y_new"
   ]
  },
  {
   "cell_type": "code",
   "execution_count": 11,
   "metadata": {},
   "outputs": [
    {
     "name": "stdout",
     "output_type": "stream",
     "text": [
      "[-0.00125447]\n",
      "[0.00010108]\n",
      "[0.00135438]\n",
      "[0.00010362]\n"
     ]
    },
    {
     "data": {
      "image/png": "[encoded data removed]",
      "text/plain": [
       "<Figure size 576x432 with 1 Axes>"
      ]
     },
     "metadata": {
      "needs_background": "light"
     },
     "output_type": "display_data"
    }
   ],
   "source": [
    "fig, ax = plt.subplots(figsize=(8, 6))\n",
    "start=3\n",
    "delta_110 = strain_110[\"E_-110\"] - strain_110[\"E_110\"]\n",
    "ax.plot(strain_110[\"strain\"], delta_110 * 1.0e6, \"C0o\",label=\"$\\mathrm{\\epsilon(110)}$: strain along [110]\")\n",
    "\n",
    "B, x_new, y_new = linear_fit(strain_110[\"strain\"].values, delta_110, start=start)\n",
    "ax.plot(x_new, y_new * 1.0e6, \"C0--\", label=\"fit with $\\mathrm{\\Delta E}$ = \" + f\"{B*1.0e3:.1f} x \" + \"$\\mathrm{10^{-3}} \\epsilon(110)$\")\n",
    "\n",
    "delta_second = second_strain_results[\"E_-110\"] - second_strain_results[\"E_110\"]\n",
    "ax.plot(second_strain_results[\"strain\"], delta_second * 1.0e6, \"C1o\", label=\"$\\mathrm{\\epsilon(-110)}$: strain along [-110]\")\n",
    "\n",
    "B, x_new, y_new = linear_fit(second_strain_results[\"strain\"].values, delta_second, start=start)\n",
    "ax.plot(x_new, y_new * 1.0e6, \"C1--\", label=\"fit with $\\mathrm{\\Delta E}$ = \" + f\"{B*1.0e3:.1f} x \" + \"$\\mathrm{10^{-3}} \\epsilon(-110)$\")\n",
    "ax.legend(fontsize=14) \n",
    "\n",
    "ax.set_xlabel(\"Strain\", fontsize=14)\n",
    "\n",
    "ax.set_ylabel(\"$\\Delta E = E(-110) - E(110)$ ($\\mathrm{\\mu eV}$)\", fontsize=16)\n",
    "ax.grid(True, linestyle=\"dashed\")\n",
    "\n",
    "fig.savefig(\"Magnetostriction_Mn2Au.pdf\")\n",
    "fig.savefig(\"Magnetostriction_Mn2Au.png\")"
   ]
  },
  {
   "cell_type": "code",
   "execution_count": 12,
   "metadata": {},
   "outputs": [],
   "source": [
    "def quadratic_fit(x, y, start=0, stop=None):\n",
    "\n",
    "    popt, pcov = curve_fit(quadratic, x[start:stop], y[start:stop])\n",
    "\n",
    "    print(popt)\n",
    "\n",
    "    perr = np.sqrt(np.diag(pcov))\n",
    "    print(perr)\n",
    "    if stop is None:\n",
    "        stop = -1\n",
    "    x_new = np.arange(x[start], x[stop], 0.001)\n",
    "    y_new = quadratic(x_new, *popt)\n",
    "\n",
    "    return popt, x_new, y_new"
   ]
  },
  {
   "cell_type": "code",
   "execution_count": 13,
   "metadata": {},
   "outputs": [],
   "source": [
    "l0 = 3.279294\n",
    "\n",
    "strain_110[\"cell_length\"] = l0 + l0 * strain_results[\"strain\"]\n",
    "\n",
    "strain_110.to_csv(\"strain_110_results.csv\")"
   ]
  },
  {
   "cell_type": "code",
   "execution_count": 16,
   "metadata": {},
   "outputs": [
    {
     "name": "stdout",
     "output_type": "stream",
     "text": [
      "[ 1.43992126 -9.41774178 -6.32396443]\n",
      "[0.02554583 0.170066   0.28292795]\n",
      "3.270228054393298\n",
      "[ 1.43861557 -9.4094076  -6.33725341]\n",
      "[0.0255829  0.17031278 0.28333855]\n",
      "Magnetostriction $\\lambda^{\\sigma, 2}$:\n",
      "3.2702995233212873\n",
      "Magnetostriction $\\lambda^{\\sigma, 2}\\ 10^{-6}$\n",
      "-21.85417831827412\n"
     ]
    },
    {
     "data": {
      "image/png": "[encoded data removed]",
      "text/plain": [
       "<Figure size 432x288 with 1 Axes>"
      ]
     },
     "metadata": {
      "needs_background": "light"
     },
     "output_type": "display_data"
    }
   ],
   "source": [
    "fig, ax = plt.subplots()\n",
    "start = 3\n",
    "\n",
    "ax.plot(strain_110.cell_length, strain_110.E_110, \"o\", ms=10, markerfacecolor=\"none\", label=\"E(110)\")\n",
    "\n",
    "(A1, B1, C1), x_new, y_new = quadratic_fit(strain_110[\"cell_length\"].values, strain_110[\"E_110\"], start=start)\n",
    "l1 = -B1 / (2.0 * A1)\n",
    "print(l1)\n",
    "\n",
    "ax.plot(x_new, y_new, \"C0-\", label=f\"fit with l={l1:4f} $\\AA$\")\n",
    "\n",
    "ax.plot(strain_110.cell_length, strain_110[\"E_-110\"], \"+\", label=\"E(-110)\", ms=10)\n",
    "\n",
    "(A1, B1, C1), x_new, y_new = quadratic_fit(strain_110[\"cell_length\"].values, strain_110[\"E_-110\"], start=start)\n",
    "l2 = -B1 / (2.0 * A1)\n",
    "print(\"Magnetostriction $\\lambda^{\\sigma, 2}$:\")\n",
    "print(l2)\n",
    "\n",
    "ax.plot(x_new, y_new, \"C1--\", label=f\"fit with l={l2:4f} $\\AA$\")\n",
    "print(\"Magnetostriction $\\lambda^{\\sigma, 2}\\ 10^{-6}$\")\n",
    "print(2.0e6* (l1 - l2) / (l1 + l2) )\n",
    "\n",
    "ax.set_xlabel(\"Cell length along [110] ($\\mathrm{\\AA}$)\")\n",
    "ax.set_ylabel(\"Energy (eV)\", labelpad=-2)\n",
    "\n",
    "ax.legend()\n",
    "fig.savefig(\"EOS.pdf\")\n",
    "fig.savefig(\"EOS.png\")"
   ]
  },
  {
   "cell_type": "code",
   "execution_count": 18,
   "metadata": {},
   "outputs": [
    {
     "data": {
      "text/html": [
       "<div>\n",
       "<style scoped>\n",
       "    .dataframe tbody tr th:only-of-type {\n",
       "        vertical-align: middle;\n",
       "    }\n",
       "\n",
       "    .dataframe tbody tr th {\n",
       "        vertical-align: top;\n",
       "    }\n",
       "\n",
       "    .dataframe thead th {\n",
       "        text-align: right;\n",
       "    }\n",
       "</style>\n",
       "<table border=\"1\" class=\"dataframe\">\n",
       "  <thead>\n",
       "    <tr style=\"text-align: right;\">\n",
       "      <th></th>\n",
       "      <th>collinear_energy</th>\n",
       "      <th>delta</th>\n",
       "      <th>parallel_energy</th>\n",
       "      <th>perpendicular_energy</th>\n",
       "      <th>strain</th>\n",
       "    </tr>\n",
       "  </thead>\n",
       "  <tbody>\n",
       "    <tr>\n",
       "      <th>0</th>\n",
       "      <td>-21.386406</td>\n",
       "      <td>1.245000e-05</td>\n",
       "      <td>-21.718122</td>\n",
       "      <td>-21.718109</td>\n",
       "      <td>-0.020</td>\n",
       "    </tr>\n",
       "    <tr>\n",
       "      <th>1</th>\n",
       "      <td>-21.389495</td>\n",
       "      <td>1.220000e-05</td>\n",
       "      <td>-21.720774</td>\n",
       "      <td>-21.720762</td>\n",
       "      <td>-0.015</td>\n",
       "    </tr>\n",
       "    <tr>\n",
       "      <th>2</th>\n",
       "      <td>-21.391656</td>\n",
       "      <td>8.440000e-06</td>\n",
       "      <td>-21.722499</td>\n",
       "      <td>-21.722490</td>\n",
       "      <td>-0.010</td>\n",
       "    </tr>\n",
       "    <tr>\n",
       "      <th>3</th>\n",
       "      <td>-21.392913</td>\n",
       "      <td>4.390000e-06</td>\n",
       "      <td>-21.723322</td>\n",
       "      <td>-21.723318</td>\n",
       "      <td>-0.005</td>\n",
       "    </tr>\n",
       "    <tr>\n",
       "      <th>4</th>\n",
       "      <td>-21.393291</td>\n",
       "      <td>6.800000e-07</td>\n",
       "      <td>-21.723273</td>\n",
       "      <td>-21.723272</td>\n",
       "      <td>0.000</td>\n",
       "    </tr>\n",
       "    <tr>\n",
       "      <th>5</th>\n",
       "      <td>-21.392818</td>\n",
       "      <td>-4.120000e-06</td>\n",
       "      <td>-21.722376</td>\n",
       "      <td>-21.722380</td>\n",
       "      <td>0.005</td>\n",
       "    </tr>\n",
       "    <tr>\n",
       "      <th>6</th>\n",
       "      <td>-21.391521</td>\n",
       "      <td>-9.360000e-06</td>\n",
       "      <td>-21.720659</td>\n",
       "      <td>-21.720669</td>\n",
       "      <td>0.010</td>\n",
       "    </tr>\n",
       "    <tr>\n",
       "      <th>7</th>\n",
       "      <td>-21.389424</td>\n",
       "      <td>-1.407000e-05</td>\n",
       "      <td>-21.718146</td>\n",
       "      <td>-21.718160</td>\n",
       "      <td>0.015</td>\n",
       "    </tr>\n",
       "    <tr>\n",
       "      <th>8</th>\n",
       "      <td>-21.386552</td>\n",
       "      <td>-1.992000e-05</td>\n",
       "      <td>-21.714860</td>\n",
       "      <td>-21.714880</td>\n",
       "      <td>0.020</td>\n",
       "    </tr>\n",
       "  </tbody>\n",
       "</table>\n",
       "</div>"
      ],
      "text/plain": [
       "   collinear_energy         delta  parallel_energy  perpendicular_energy  \\\n",
       "0        -21.386406  1.245000e-05       -21.718122            -21.718109   \n",
       "1        -21.389495  1.220000e-05       -21.720774            -21.720762   \n",
       "2        -21.391656  8.440000e-06       -21.722499            -21.722490   \n",
       "3        -21.392913  4.390000e-06       -21.723322            -21.723318   \n",
       "4        -21.393291  6.800000e-07       -21.723273            -21.723272   \n",
       "5        -21.392818 -4.120000e-06       -21.722376            -21.722380   \n",
       "6        -21.391521 -9.360000e-06       -21.720659            -21.720669   \n",
       "7        -21.389424 -1.407000e-05       -21.718146            -21.718160   \n",
       "8        -21.386552 -1.992000e-05       -21.714860            -21.714880   \n",
       "\n",
       "   strain  \n",
       "0  -0.020  \n",
       "1  -0.015  \n",
       "2  -0.010  \n",
       "3  -0.005  \n",
       "4   0.000  \n",
       "5   0.005  \n",
       "6   0.010  \n",
       "7   0.015  \n",
       "8   0.020  "
      ]
     },
     "execution_count": 18,
     "metadata": {},
     "output_type": "execute_result"
    }
   ],
   "source": [
    "smaller_strain_results = pd.read_csv(\"smaller_strain_results.csv\", index_col=0)\n",
    "smaller_strain_results"
   ]
  },
  {
   "cell_type": "code",
   "execution_count": 51,
   "metadata": {},
   "outputs": [
    {
     "data": {
      "text/plain": [
       "<AxesSubplot:xlabel='strain', ylabel='collinear_energy'>"
      ]
     },
     "execution_count": 51,
     "metadata": {},
     "output_type": "execute_result"
    },
    {
     "data": {
      "image/png": "[encoded data removed]",
      "text/plain": [
       "<Figure size 432x288 with 1 Axes>"
      ]
     },
     "metadata": {
      "needs_background": "light"
     },
     "output_type": "display_data"
    }
   ],
   "source": [
    "smaller_strain_results.plot(x=\"strain\", y=\"collinear_energy\", kind=\"scatter\")"
   ]
  },
  {
   "cell_type": "code",
   "execution_count": 42,
   "metadata": {},
   "outputs": [],
   "source": [
    "l0 = 3.279294\n",
    "\n",
    "smaller_strain_results[\"cell_length\"] = l0 + l0 * smaller_strain_results[\"strain\"]\n",
    "\n",
    "smaller_strain_results.to_csv(\"smaller_strain_110_results.csv\")"
   ]
  },
  {
   "cell_type": "code",
   "execution_count": 52,
   "metadata": {},
   "outputs": [
    {
     "data": {
      "text/plain": [
       "<AxesSubplot:xlabel='cell_length', ylabel='collinear_energy'>"
      ]
     },
     "execution_count": 52,
     "metadata": {},
     "output_type": "execute_result"
    },
    {
     "data": {
      "image/png": "[encoded data removed]",
      "text/plain": [
       "<Figure size 432x288 with 1 Axes>"
      ]
     },
     "metadata": {
      "needs_background": "light"
     },
     "output_type": "display_data"
    }
   ],
   "source": [
    "smaller_strain_results.plot(x=\"cell_length\", y=\"collinear_energy\", kind=\"scatter\")"
   ]
  },
  {
   "cell_type": "code",
   "execution_count": 57,
   "metadata": {},
   "outputs": [
    {
     "name": "stdout",
     "output_type": "stream",
     "text": [
      "[-0.00092091]\n",
      "[2.85641018e-05]\n"
     ]
    },
    {
     "data": {
      "image/png": "[encoded data removed]",
      "text/plain": [
       "<Figure size 432x288 with 1 Axes>"
      ]
     },
     "metadata": {
      "needs_background": "light"
     },
     "output_type": "display_data"
    }
   ],
   "source": [
    "fig, ax = plt.subplots()\n",
    "\n",
    "ax.plot(smaller_strain_results.strain, smaller_strain_results.delta * 1.0e6, \"o\", label=\"$\\mathrm{\\epsilon(110)}$: strain along [110]\")\n",
    "\n",
    "B, x_new, y_new = linear_fit(smaller_strain_results[\"strain\"].values, smaller_strain_results.delta, start=1)\n",
    "ax.plot(x_new, y_new * 1.0e6, \"C0--\", label=\"fit with $\\mathrm{\\Delta E}$ = \" + f\"{B*1.0e3:.2f} x \" + \"$\\mathrm{10^{-3}} \\epsilon(110)$\")\n",
    "\n",
    "ax.grid(True, linestyle=\"dashed\", alpha=0.5)\n",
    "\n",
    "ax.legend()\n",
    "\n",
    "ax.set_xlabel(\"Strain\")\n",
    "\n",
    "ax.set_ylabel(\"$\\Delta E = E(-110) - E(110)$ ($\\mathrm{\\mu eV}$)\")\n",
    "fig.savefig(\"smaller_strain_magnetostriction.png\")\n",
    "fig.savefig(\"smaller_strain_magnetostriction.pdf\")"
   ]
  },
  {
   "cell_type": "code",
   "execution_count": 58,
   "metadata": {},
   "outputs": [
    {
     "name": "stdout",
     "output_type": "stream",
     "text": [
      "[  1.57660139 -10.31430333  -4.85404794]\n",
      "[0.01420878 0.09319092 0.15278198]\n",
      "3.2710561341678415\n",
      "[  1.57566147 -10.30839528  -4.86331373]\n",
      "[0.01410205 0.09249105 0.15163474]\n",
      "Magnetostriction $\\lambda^{\\sigma, 2}$:\n",
      "3.2711326329811\n",
      "Magnetostriction $\\lambda^{\\sigma, 2}\\ 10^{-6}$\n",
      "-23.386305709427244\n"
     ]
    },
    {
     "data": {
      "image/png": "[encoded data removed]",
      "text/plain": [
       "<Figure size 432x288 with 1 Axes>"
      ]
     },
     "metadata": {
      "needs_background": "light"
     },
     "output_type": "display_data"
    }
   ],
   "source": [
    "fig, ax = plt.subplots()\n",
    "start = 0\n",
    "\n",
    "smaller_strain_results[\"E_110\"] = smaller_strain_results.parallel_energy\n",
    "smaller_strain_results[\"E_-110\"] = smaller_strain_results.perpendicular_energy\n",
    "\n",
    "ax.plot(smaller_strain_results.cell_length, smaller_strain_results.E_110, \"o\", ms=10, markerfacecolor=\"none\", label=\"E(110)\")\n",
    "\n",
    "(A1, B1, C1), x_new, y_new = quadratic_fit(smaller_strain_results[\"cell_length\"].values, smaller_strain_results[\"E_110\"], start=start)\n",
    "l1 = -B1 / (2.0 * A1)\n",
    "print(l1)\n",
    "\n",
    "ax.plot(x_new, y_new, \"C0-\", label=f\"fit with l={l1:.5f} $\\AA$\")\n",
    "\n",
    "ax.plot(smaller_strain_results.cell_length, smaller_strain_results[\"E_-110\"], \"+\", label=\"E(-110)\", ms=10)\n",
    "\n",
    "(A1, B1, C1), x_new, y_new = quadratic_fit(smaller_strain_results[\"cell_length\"].values, smaller_strain_results[\"E_-110\"], start=start)\n",
    "l2 = -B1 / (2.0 * A1)\n",
    "print(\"Magnetostriction $\\lambda^{\\sigma, 2}$:\")\n",
    "print(l2)\n",
    "\n",
    "ax.plot(x_new, y_new, \"C1--\", label=f\"fit with l={l2:.5f} $\\AA$\")\n",
    "print(\"Magnetostriction $\\lambda^{\\sigma, 2}\\ 10^{-6}$\")\n",
    "print(2.0e6* (l1 - l2) / (l1 + l2) )\n",
    "\n",
    "ax.set_xlabel(\"Cell length along [110] ($\\mathrm{\\AA}$)\")\n",
    "ax.set_ylabel(\"Energy (eV)\", labelpad=-3)\n",
    "\n",
    "ax.legend()\n",
    "fig.savefig(\"smaller_strain_EOS.png\")\n",
    "fig.savefig(\"smaller_strain_EOS.pdf\")"
   ]
  },
  {
   "cell_type": "code",
   "execution_count": null,
   "metadata": {},
   "outputs": [],
   "source": []
  }
 ],
 "metadata": {
  "kernelspec": {
   "display_name": "Python 3",
   "language": "python",
   "name": "python3"
  },
  "language_info": {
   "codemirror_mode": {
    "name": "ipython",
    "version": 3
   },
   "file_extension": ".py",
   "mimetype": "text/x-python",
   "name": "python",
   "nbconvert_exporter": "python",
   "pygments_lexer": "ipython3",
   "version": "3.7.7"
  }
 },
 "nbformat": 4,
 "nbformat_minor": 4
}
