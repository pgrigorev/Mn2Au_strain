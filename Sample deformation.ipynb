{
 "cells": [
  {
   "cell_type": "markdown",
   "metadata": {},
   "source": [
    "This part of the code calculates the displacement of the sample center upon bending depending on the diameters of the excentric rod (D and d) and the rotation angle (alpha)."
   ]
  },
  {
   "cell_type": "code",
   "execution_count": 35,
   "metadata": {},
   "outputs": [
    {
     "name": "stdout",
     "output_type": "stream",
     "text": [
      "The displacement is 150.0 um\n"
     ]
    }
   ],
   "source": [
    "import numpy as np\n",
    "import cmath\n",
    "\n",
    "D = 3.15;\n",
    "d = 3;\n",
    "\n",
    "R = D/2;\n",
    "r = d/2;\n",
    "\n",
    "alpha = 180; #degrees\n",
    "\n",
    "a = 1;\n",
    "b = 2*(R-r)*np.cos(alpha/180*np.pi);\n",
    "c = r*(r-2*R);\n",
    "\n",
    "discr = (b**2) - (4*a*c)\n",
    "\n",
    "sol1 = (-b-cmath.sqrt(discr))/(2*a)\n",
    "sol2 = (-b+cmath.sqrt(discr))/(2*a)\n",
    "\n",
    "h = (sol2.real-r)*1000;\n",
    "\n",
    "print('The displacement is {:.1f} um'.format(h))"
   ]
  },
  {
   "cell_type": "markdown",
   "metadata": {},
   "source": [
    "The curvature radius of the sapphire substrate."
   ]
  },
  {
   "cell_type": "code",
   "execution_count": 36,
   "metadata": {
    "scrolled": true
   },
   "outputs": [
    {
     "name": "stdout",
     "output_type": "stream",
     "text": [
      "The sample curvature radius is 67.5 mm\n"
     ]
    }
   ],
   "source": [
    "w = 9; #mm the frame width\n",
    "\n",
    "rho = w**2/8/h*1000; #mm the curvature radius\n",
    "\n",
    "print('The sample curvature radius is {:.1f} mm'.format(rho))"
   ]
  },
  {
   "cell_type": "markdown",
   "metadata": {},
   "source": [
    "The non-zero component of the deformation tensor."
   ]
  },
  {
   "cell_type": "code",
   "execution_count": 41,
   "metadata": {
    "scrolled": true
   },
   "outputs": [
    {
     "name": "stdout",
     "output_type": "stream",
     "text": [
      "The relative deformation is 0.37 %\n"
     ]
    }
   ],
   "source": [
    "t = 500; #um substrate thickness\n",
    "\n",
    "eps = t*1e-3/2/rho;\n",
    "print('The relative deformation is {:.2f} %'.format(eps*100))"
   ]
  }
 ],
 "metadata": {
  "kernelspec": {
   "display_name": "Python 3",
   "language": "python",
   "name": "python3"
  },
  "language_info": {
   "codemirror_mode": {
    "name": "ipython",
    "version": 3
   },
   "file_extension": ".py",
   "mimetype": "text/x-python",
   "name": "python",
   "nbconvert_exporter": "python",
   "pygments_lexer": "ipython3",
   "version": "3.7.7"
  }
 },
 "nbformat": 4,
 "nbformat_minor": 4
}
